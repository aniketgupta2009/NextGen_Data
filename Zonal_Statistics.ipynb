{
 "cells": [
  {
   "cell_type": "code",
   "execution_count": 1,
   "id": "850bd95c",
   "metadata": {},
   "outputs": [],
   "source": [
    "import os\n",
    "os.environ['USE_PYGEOS'] = '0'\n",
    "import geopandas as gpd\n",
    "from geocube.api.core import make_geocube\n",
    "import xarray as xr\n",
    "import numpy as np"
   ]
  },
  {
   "cell_type": "code",
   "execution_count": 2,
   "id": "1d1556c7",
   "metadata": {},
   "outputs": [],
   "source": [
    "# wget https://github.com/aniketgupta2009/NextGen_Data/blob/main/test.nc\n",
    "# wget https://github.com/aniketgupta2009/NextGen_Data/blob/main/wb-3370658_upstream_subset.gpkg"
   ]
  },
  {
   "cell_type": "code",
   "execution_count": 3,
   "id": "a5b028f6",
   "metadata": {},
   "outputs": [],
   "source": [
    "Path = os.getcwd()"
   ]
  },
  {
   "cell_type": "code",
   "execution_count": 4,
   "id": "b137c550",
   "metadata": {},
   "outputs": [],
   "source": [
    "gdf = gpd.read_file(Path + '/' + 'wb-3370658_upstream_subset.gpkg', layer='divides')"
   ]
  },
  {
   "cell_type": "code",
   "execution_count": 5,
   "id": "50cd1a73",
   "metadata": {},
   "outputs": [],
   "source": [
    "ds=xr.open_dataset(Path + '/' + 'test.nc')"
   ]
  },
  {
   "cell_type": "code",
   "execution_count": 6,
   "id": "5426a55e",
   "metadata": {},
   "outputs": [],
   "source": [
    "ds = ds.rio.write_crs(gdf.crs)"
   ]
  },
  {
   "cell_type": "code",
   "execution_count": 7,
   "id": "3a9dad8f",
   "metadata": {},
   "outputs": [],
   "source": [
    "gdf['cat'] = gdf.id.str.split('-').str[-1].astype(int)"
   ]
  },
  {
   "cell_type": "code",
   "execution_count": 8,
   "id": "8af5b76d",
   "metadata": {},
   "outputs": [],
   "source": [
    "ds = ds.rio.clip(gdf.geometry.values,gdf.crs,drop=True,invert=False)"
   ]
  },
  {
   "cell_type": "code",
   "execution_count": 9,
   "id": "0699c133",
   "metadata": {},
   "outputs": [],
   "source": [
    "out_grid = make_geocube(\n",
    "    vector_data=gdf,\n",
    "    measurements=[\"cat\"],\n",
    "    like=ds)"
   ]
  },
  {
   "cell_type": "code",
   "execution_count": 10,
   "id": "862b1651",
   "metadata": {},
   "outputs": [
    {
     "data": {
      "text/plain": [
       "8172"
      ]
     },
     "execution_count": 10,
     "metadata": {},
     "output_type": "execute_result"
    }
   ],
   "source": [
    "np.count_nonzero(np.unique(out_grid['cat']))"
   ]
  },
  {
   "cell_type": "code",
   "execution_count": 13,
   "id": "b5f9f77b",
   "metadata": {},
   "outputs": [
    {
     "data": {
      "text/plain": [
       "8372"
      ]
     },
     "execution_count": 13,
     "metadata": {},
     "output_type": "execute_result"
    }
   ],
   "source": [
    "np.count_nonzero(gdf['cat'].unique())"
   ]
  },
  {
   "cell_type": "code",
   "execution_count": null,
   "id": "566b270f",
   "metadata": {},
   "outputs": [],
   "source": [
    "# out_grid has less number of catchments compared to geodataframe (gdf)"
   ]
  }
 ],
 "metadata": {
  "kernelspec": {
   "display_name": "Python 3 (ipykernel)",
   "language": "python",
   "name": "python3"
  },
  "language_info": {
   "codemirror_mode": {
    "name": "ipython",
    "version": 3
   },
   "file_extension": ".py",
   "mimetype": "text/x-python",
   "name": "python",
   "nbconvert_exporter": "python",
   "pygments_lexer": "ipython3",
   "version": "3.10.0"
  }
 },
 "nbformat": 4,
 "nbformat_minor": 5
}
